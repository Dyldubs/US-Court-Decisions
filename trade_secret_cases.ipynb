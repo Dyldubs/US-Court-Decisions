{
 "cells": [
  {
   "cell_type": "code",
   "execution_count": 25,
   "metadata": {},
   "outputs": [
    {
     "name": "stdout",
     "output_type": "stream",
     "text": [
      "2.11.0\n"
     ]
    }
   ],
   "source": [
    "# Import packages and libraries\n",
    "import tensorflow as tf\n",
    "from tensorflow import keras\n",
    "from tensorflow.keras.preprocessing.text import Tokenizer\n",
    "import pandas as pd\n",
    "import string\n",
    "import re\n",
    "import numpy as np\n",
    "from sklearn.model_selection import train_test_split\n",
    "import matplotlib.pyplot as plt\n",
    "from matplotlib.ticker import PercentFormatter\n",
    "import nltk\n",
    "import spacy\n",
    "import sys\n",
    "from spacy.lang.en import English\n",
    "import en_core_web_sm\n",
    "from nltk.corpus import wordnet as wn\n",
    "from nltk.stem.wordnet import WordNetLemmatizer\n",
    "from bertopic import BERTopic\n",
    "\n",
    "print(tf.__version__)  # 2.0.0-beta0"
   ]
  },
  {
   "cell_type": "code",
   "execution_count": 26,
   "metadata": {},
   "outputs": [
    {
     "name": "stderr",
     "output_type": "stream",
     "text": [
      "[nltk_data] Downloading package stopwords to /Users/Dylan/nltk_data...\n",
      "[nltk_data]   Package stopwords is already up-to-date!\n",
      "[nltk_data] Downloading package wordnet to /Users/Dylan/nltk_data...\n",
      "[nltk_data]   Package wordnet is already up-to-date!\n"
     ]
    },
    {
     "data": {
      "text/plain": [
       "True"
      ]
     },
     "execution_count": 26,
     "metadata": {},
     "output_type": "execute_result"
    }
   ],
   "source": [
    "nltk.download('stopwords')\n",
    "nltk.download('wordnet')"
   ]
  },
  {
   "attachments": {},
   "cell_type": "markdown",
   "metadata": {},
   "source": [
    "# Dataset\n",
    "Segmenting US court decision opinions into issue parts: 316 court decisions on cyber crime and trade secrets, manually segmented into 6 content based \"types\" (encompassing categories like \"Introduction\", \"Dissent\", or \"Background\")."
   ]
  },
  {
   "cell_type": "code",
   "execution_count": null,
   "metadata": {},
   "outputs": [],
   "source": [
    "# Load the dataset and examine the contents\n",
    "df = pd.read_json(\"../Dylan/Projects/trade_secret_cases.json\")\n",
    "df.head()"
   ]
  },
  {
   "cell_type": "code",
   "execution_count": null,
   "metadata": {},
   "outputs": [],
   "source": [
    "# Inspect an example of a court decision\n",
    "print(df.loc[0]['annotations'])\n",
    "print(df.loc[0]['text'])\n",
    "print(df.loc[0]['name'])"
   ]
  },
  {
   "cell_type": "code",
   "execution_count": 29,
   "metadata": {},
   "outputs": [
    {
     "name": "stdout",
     "output_type": "stream",
     "text": [
      "This is the Background section from the Advance Biofactures Corp. v. Greenberg (1984).txt case: \n"
     ]
    },
    {
     "data": {
      "text/plain": [
       "0    \\n103 A.D.2d 834 (1984) \\n\\n  Advance  Biofactures  Corporation, Appellant,   \\nv.   \\nJacob  Greenberg  , Respondent \\n\\nAppellate Division of the Supreme Court of the State of New York, Second Department. \\n\\nJuly 30, 1984 \\n\\nWeinstein, J. P., Niehoff, Rubin and Eiber, JJ., concur. \\n\\n¶ Order affirmed, without costs or disbursements. \\n\n",
       "Name: text, dtype: object"
      ]
     },
     "execution_count": 29,
     "metadata": {},
     "output_type": "execute_result"
    }
   ],
   "source": [
    "# Create a function to extract a specific section of a court decision\n",
    "pd.set_option('display.max_colwidth', None)\n",
    "\n",
    "def extract(df, name, section):\n",
    "    \"\"\"\n",
    "    This function extracts the text of a court decision according to its name and type of annotation.\n",
    "    \"\"\"\n",
    "    # Search for the name of the court decision\n",
    "    row = df.query(f\"name == '{name}'\")\n",
    "    \n",
    "    # Search for the text of the relevant section\n",
    "    text = df.iloc[row.index]['text']\n",
    "    \n",
    "    # Iterating through a list of dictionaries\n",
    "    for index in range(len(row['annotations'])): # prints 0 1 2 3 4\n",
    "        for key in row['annotations'][index]: # prints start end type\n",
    "            if section in key.values():\n",
    "                # Assign start and end indexes\n",
    "                start = row['annotations'][index][index]['start']\n",
    "                end = row['annotations'][index][index]['end']\n",
    "\n",
    "                # Slice text using start and end indices\n",
    "                # print(start, end)\n",
    "                print(f\"This is the {section} section from the {name} case: \")\n",
    "                return text.str[start-1:end]\n",
    "\n",
    "extract(df, 'Advance Biofactures Corp. v. Greenberg (1984).txt', 'Background')"
   ]
  },
  {
   "cell_type": "code",
   "execution_count": 30,
   "metadata": {},
   "outputs": [],
   "source": [
    "tokenizer = Tokenizer(oov_token=\"<OOV>\") # replace words we don't recognise with out of vocabulary token\n",
    "tokenizer.fit_on_texts(df['text'])\n",
    "word_index = tokenizer.word_index\n",
    "# print(word_index)\n",
    "\n",
    "sequences = tokenizer.texts_to_sequences(df['text'])\n",
    "# for neural networks\n",
    "# padded = pad_sequences(df['text'])"
   ]
  },
  {
   "attachments": {},
   "cell_type": "markdown",
   "metadata": {},
   "source": [
    "Use the analysis as input and the conclusion as output. (Predict outcomes of legal case)\n",
    "LDA for topic modelling (Topic Classification of legal cases)"
   ]
  },
  {
   "cell_type": "code",
   "execution_count": 31,
   "metadata": {},
   "outputs": [],
   "source": [
    "# Create train and test sets \n"
   ]
  },
  {
   "attachments": {},
   "cell_type": "markdown",
   "metadata": {},
   "source": [
    "Removing stop words as a preprocessing step is not advised as the transformer-based embedding models that we use need the full context in order to create accurate embeddings. Instead, we can use the CountVectorizer to preprocess our documents after having generated embeddings and clustered our documents. "
   ]
  },
  {
   "cell_type": "code",
   "execution_count": null,
   "metadata": {},
   "outputs": [],
   "source": [
    "# Topic Modelling\n",
    "# Retrieve all the text data\n",
    "docs = df[\"text\"].values.tolist()\n",
    "# Fit a BERTopic model onto dataset\n",
    "topic_model = BERTopic()\n",
    "topics, probs = topic_model.fit_transform(docs)\n",
    "# Access the frequent topics that were generated\n",
    "topic_model.get_topic_info()\n",
    "# Extract information at a document level\n",
    "topic_model.get_document_info(docs)"
   ]
  },
  {
   "cell_type": "code",
   "execution_count": null,
   "metadata": {},
   "outputs": [],
   "source": [
    "# Topics Distribution\n",
    "topic_dist_model = BERTopic().fit(docs)\n",
    "# Approximate the topics distributions for our documents\n",
    "topic_distr, _ = topic_dist_model.approximate_distribution(docs)\n",
    "# Visualize the distribution of the topics in a document\n",
    "topic_dist_model.visualize_distribution(topic_distr[1])"
   ]
  },
  {
   "cell_type": "code",
   "execution_count": null,
   "metadata": {},
   "outputs": [],
   "source": [
    "# Calculate the topic distributions on a token-level\n",
    "topic_distr, topic_token_distr = topic_dist_model.approximate_distribution(docs, calculate_tokens=True)\n",
    "\n",
    "# Visualize the token-level distributions\n",
    "df_viz = topic_dist_model.visualize_approximate_distribution(docs[1], topic_token_distr[1])\n",
    "df_viz"
   ]
  },
  {
   "cell_type": "code",
   "execution_count": 39,
   "metadata": {},
   "outputs": [
    {
     "data": {
      "image/png": "[encoded data removed]",
      "text/plain": [
       "<Figure size 640x480 with 1 Axes>"
      ]
     },
     "metadata": {},
     "output_type": "display_data"
    }
   ],
   "source": [
    "# Topic Visualization\n",
    "from wordcloud import WordCloud\n",
    "import matplotlib.pyplot as plt\n",
    "\n",
    "def create_wordcloud(model, topic):\n",
    "    text = {word: value for word, value in model.get_topic(topic)}\n",
    "    wc = WordCloud(background_color=\"white\", max_words=1000)\n",
    "    wc.generate_from_frequencies(text)\n",
    "    plt.imshow(wc, interpolation=\"bilinear\")\n",
    "    plt.axis(\"off\")\n",
    "    plt.show()\n",
    "\n",
    "# Show wordcloud\n",
    "create_wordcloud(topic_model, topic=1)"
   ]
  }
 ],
 "metadata": {
  "kernelspec": {
   "display_name": "tensorflow",
   "language": "python",
   "name": "python3"
  },
  "language_info": {
   "codemirror_mode": {
    "name": "ipython",
    "version": 3
   },
   "file_extension": ".py",
   "mimetype": "text/x-python",
   "name": "python",
   "nbconvert_exporter": "python",
   "pygments_lexer": "ipython3",
   "version": "3.8.16 | packaged by conda-forge | (default, Feb  1 2023, 16:01:13) \n[Clang 14.0.6 ]"
  },
  "orig_nbformat": 4,
  "vscode": {
   "interpreter": {
    "hash": "5658a1454294d4bcf500a32c4d3bbd8e4009ece23f397b781ebb01b623e558f9"
   }
  }
 },
 "nbformat": 4,
 "nbformat_minor": 2
}
